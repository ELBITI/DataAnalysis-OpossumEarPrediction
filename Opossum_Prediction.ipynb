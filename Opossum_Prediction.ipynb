{
  "nbformat": 4,
  "nbformat_minor": 0,
  "metadata": {
    "colab": {
      "provenance": [],
      "authorship_tag": "ABX9TyN+YH/JYnSbGFH1Fgp51Cdd",
      "include_colab_link": true
    },
    "kernelspec": {
      "name": "python3",
      "display_name": "Python 3"
    },
    "language_info": {
      "name": "python"
    }
  },
  "cells": [
    {
      "cell_type": "markdown",
      "metadata": {
        "id": "view-in-github",
        "colab_type": "text"
      },
      "source": [
        "<a href=\"https://colab.research.google.com/github/ELBITI/DataAnalysis-OpossumEarPrediction/blob/main/Opossum_Prediction.ipynb\" target=\"_parent\"><img src=\"https://colab.research.google.com/assets/colab-badge.svg\" alt=\"Open In Colab\"/></a>"
      ]
    },
    {
      "cell_type": "code",
      "execution_count": 2,
      "metadata": {
        "colab": {
          "base_uri": "https://localhost:8080/",
          "height": 881
        },
        "id": "KzyLSHjCoeeI",
        "outputId": "f7a83f8b-cbc9-4895-83b2-620a9ba42c6b"
      },
      "outputs": [
        {
          "output_type": "stream",
          "name": "stdout",
          "text": [
            "             age    hdlngth     skullw   totlngth      taill   footlgth  \\\n",
            "count  79.000000  79.000000  79.000000  79.000000  79.000000  79.000000   \n",
            "mean    3.962025  92.617722  56.848101  87.205063  36.797468  68.582278   \n",
            "std     2.002838   3.197546   2.960763   3.747337   1.782247   4.451009   \n",
            "min     1.000000  82.500000  50.000000  80.500000  32.000000  60.300000   \n",
            "25%     2.500000  90.700000  55.000000  84.500000  35.500000  64.500000   \n",
            "50%     4.000000  93.100000  56.300000  88.000000  36.500000  68.400000   \n",
            "75%     5.500000  94.550000  58.100000  89.500000  38.000000  72.750000   \n",
            "max     9.000000  99.900000  68.600000  95.500000  41.000000  77.200000   \n",
            "\n",
            "        earconch        eye      chest      belly  \n",
            "count  79.000000  79.000000  79.000000  79.000000  \n",
            "mean   48.532911  15.088608  27.018987  32.436709  \n",
            "std     4.151852   1.056116   1.905530   2.426308  \n",
            "min    42.400000  12.800000  22.000000  28.000000  \n",
            "25%    44.800000  14.450000  25.500000  31.000000  \n",
            "50%    48.000000  15.000000  27.000000  32.000000  \n",
            "75%    52.050000  15.750000  28.000000  34.000000  \n",
            "max    56.200000  17.800000  31.000000  39.000000  \n",
            "   footlgth  earconch\n",
            "0      62.0      42.4\n",
            "1      62.3      44.8\n",
            "2      62.8      43.0\n",
            "3      63.0      44.3\n",
            "4      64.4      48.0\n"
          ]
        },
        {
          "output_type": "execute_result",
          "data": {
            "text/plain": [
              "<matplotlib.collections.PathCollection at 0x7b8e1af36b90>"
            ]
          },
          "metadata": {},
          "execution_count": 2
        },
        {
          "output_type": "display_data",
          "data": {
            "text/plain": [
              "<Figure size 640x480 with 1 Axes>"
            ],
            "image/png": "[encoded data removed]"
          },
          "metadata": {}
        }
      ],
      "source": [
        "import pandas as pd\n",
        "import matplotlib.pyplot as plt\n",
        "\n",
        "df = pd.read_csv('possum.csv')\n",
        "\n",
        "#suprimer les lignes qui contient les valeur manquantes\n",
        "df = df.dropna()\n",
        "\n",
        "#remplacer les lignes qui contient les valeur manquantes par le moyenne (ca marche si les collonnes contient des variable numérique)\n",
        "#df.fillna(df.mean(), inplace = True)\n",
        "print(df.describe())\n",
        "\n",
        "data.drop_duplicates(inplace=True)\n",
        "print(df.dtypes)\n",
        "print(df.describe())\n",
        "\n",
        "df_selected = df [['footlgth', 'earconch']]\n",
        "\n",
        "\n",
        "print(df_selected.head())\n",
        "\n",
        "\n",
        "\n",
        "\n",
        "plt.scatter(df_selected['footlgth'], df_selected['earconch'], color = 'r', marker ='o')\n",
        "\n",
        "\n"
      ]
    },
    {
      "cell_type": "code",
      "source": [],
      "metadata": {
        "id": "PUQ087NQrNdM"
      },
      "execution_count": null,
      "outputs": []
    }
  ]
}